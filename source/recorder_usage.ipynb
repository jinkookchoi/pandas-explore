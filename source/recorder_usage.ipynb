{
 "cells": [
  {
   "cell_type": "code",
   "execution_count": 93,
   "metadata": {},
   "outputs": [
    {
     "name": "stdout",
     "output_type": "stream",
     "text": [
      "The autoreload extension is already loaded. To reload it, use:\n",
      "  %reload_ext autoreload\n"
     ]
    }
   ],
   "source": [
    "%load_ext autoreload\n",
    "%autoreload 2"
   ]
  },
  {
   "cell_type": "markdown",
   "metadata": {},
   "source": [
    "# A. 학습모듈 기록 Part"
   ]
  },
  {
   "cell_type": "markdown",
   "metadata": {},
   "source": [
    "+ Record 모듈 import\n",
    "+ Record 객체 생성\n",
    "+ 학습 기록 추가"
   ]
  },
  {
   "cell_type": "code",
   "execution_count": 94,
   "metadata": {},
   "outputs": [
    {
     "name": "stdout",
     "output_type": "stream",
     "text": [
      "Requirement already satisfied: tinydb in /Users/jin-kookchoi/DevOps/pandas_explore/venv/lib/python3.7/site-packages (4.2.0)\n",
      "\u001b[33mYou are using pip version 19.0.3, however version 20.2.4 is available.\n",
      "You should consider upgrading via the 'pip install --upgrade pip' command.\u001b[0m\n"
     ]
    }
   ],
   "source": [
    "!pip install tinydb"
   ]
  },
  {
   "cell_type": "markdown",
   "metadata": {},
   "source": [
    "## 1. 모듈 import"
   ]
  },
  {
   "cell_type": "code",
   "execution_count": 88,
   "metadata": {},
   "outputs": [],
   "source": [
    "from recorder import Recorder"
   ]
  },
  {
   "cell_type": "markdown",
   "metadata": {},
   "source": [
    "## 2. 객체 생성"
   ]
  },
  {
   "cell_type": "markdown",
   "metadata": {},
   "source": [
    "+ 공통 json 파일 위치 지정\n",
    "+ metric 지정"
   ]
  },
  {
   "cell_type": "code",
   "execution_count": 86,
   "metadata": {},
   "outputs": [],
   "source": [
    "# 공통 JSON 파일은 AIDU의 경우 AICentro 데이터 관리항목에 두고 모델러가 함께 사용\n",
    "# 대표할 메트릭은 대회 상황에 맞게 정하면됨(best 추출 기준)\n",
    "rec = Recorder('history.json', metric='accuracy')"
   ]
  },
  {
   "cell_type": "markdown",
   "metadata": {},
   "source": [
    "## 3. 레코드 추가\n",
    "\n",
    "+ validation 실행 이후에 추가\n",
    "+ 실험 1건 당 1개의 레코드 추가하는 것이 적절\n",
    "+ 자동 기록 항목\n",
    "    - uuid, datetime\n",
    "+ 사용자 정의 기록 항목\n",
    "    - 예) features, n_features_in, accuracy, auc 등\n",
    "    - 예) user, elapsed_time, model, hyperparameters"
   ]
  },
  {
   "cell_type": "code",
   "execution_count": 87,
   "metadata": {},
   "outputs": [],
   "source": [
    "# DB Insert 항목은 대회 상황에 맞게 정하면 됨\n",
    "# 추가할 레코드별로 딕셔너리 항목이 상이하더라도 큰 문제는 없음\n",
    "rec.insert({'features': ['age', 'sex', 'inet_amt'], 'n_features_in': 3, \n",
    "            'accuracy': 0.92424, \n",
    "            'tag': 'feature_200',\n",
    "            'user': 'Trumph',\n",
    "            'elapsed_time': 0.0712,\n",
    "            'model': 'xgboost',\n",
    "            'hyper_parameters': {'max_depth':6, 'min_child_weight': 1,'eta':.3,}})"
   ]
  },
  {
   "cell_type": "markdown",
   "metadata": {},
   "source": [
    "# B. 별도 기록 확인 Part"
   ]
  },
  {
   "cell_type": "markdown",
   "metadata": {},
   "source": [
    "+ Record 객체 생성 필요"
   ]
  },
  {
   "cell_type": "markdown",
   "metadata": {},
   "source": [
    "## 4. 기록 확인\n",
    "\n",
    "+ 개인별로 기록을 확인하는 노트북을 별도로 작성해서 수시로 확인 가능\n",
    "+ 팀 대쉬보드로 활용 가능\n",
    "+ 기록 확인 함수 : pandas DataFrame으로 반환\n",
    "    - get_best(n=조회할 기록수)\n",
    "    - get_recent(n=조회할 기록수, reverse=역순옵션)"
   ]
  },
  {
   "cell_type": "code",
   "execution_count": 59,
   "metadata": {},
   "outputs": [
    {
     "data": {
      "text/html": [
       "<div>\n",
       "<style scoped>\n",
       "    .dataframe tbody tr th:only-of-type {\n",
       "        vertical-align: middle;\n",
       "    }\n",
       "\n",
       "    .dataframe tbody tr th {\n",
       "        vertical-align: top;\n",
       "    }\n",
       "\n",
       "    .dataframe thead th {\n",
       "        text-align: right;\n",
       "    }\n",
       "</style>\n",
       "<table border=\"1\" class=\"dataframe\">\n",
       "  <thead>\n",
       "    <tr style=\"text-align: right;\">\n",
       "      <th></th>\n",
       "      <th>features</th>\n",
       "      <th>n_features_in</th>\n",
       "      <th>accuracy</th>\n",
       "      <th>tag</th>\n",
       "      <th>user</th>\n",
       "      <th>elapsed_time</th>\n",
       "      <th>model</th>\n",
       "      <th>hyper_parameters</th>\n",
       "      <th>uid</th>\n",
       "      <th>datetime</th>\n",
       "    </tr>\n",
       "  </thead>\n",
       "  <tbody>\n",
       "    <tr>\n",
       "      <th>4</th>\n",
       "      <td>[age, sex, inet_amt]</td>\n",
       "      <td>3</td>\n",
       "      <td>0.92124</td>\n",
       "      <td>feature_200</td>\n",
       "      <td>Trumph</td>\n",
       "      <td>0.0712</td>\n",
       "      <td>xgboost</td>\n",
       "      <td>{'max_depth': 6, 'min_child_weight': 1, 'eta':...</td>\n",
       "      <td>9e7b2348-93f8-4933-85ca-519738d7bf35</td>\n",
       "      <td>2020-10-29 11:50:18</td>\n",
       "    </tr>\n",
       "    <tr>\n",
       "      <th>5</th>\n",
       "      <td>[age, sex, inet_amt]</td>\n",
       "      <td>3</td>\n",
       "      <td>0.92124</td>\n",
       "      <td>feature_200</td>\n",
       "      <td>Trumph</td>\n",
       "      <td>0.0712</td>\n",
       "      <td>xgboost</td>\n",
       "      <td>{'max_depth': 6, 'min_child_weight': 1, 'eta':...</td>\n",
       "      <td>0690d158-940d-4c5f-86a4-d7984c48fcb4</td>\n",
       "      <td>2020-10-29 12:51:48</td>\n",
       "    </tr>\n",
       "    <tr>\n",
       "      <th>2</th>\n",
       "      <td>[age, sex, inet_amt, year, weekday]</td>\n",
       "      <td>5</td>\n",
       "      <td>0.89924</td>\n",
       "      <td>feature_103</td>\n",
       "      <td>Trumph</td>\n",
       "      <td>0.0812</td>\n",
       "      <td>xgboost</td>\n",
       "      <td>{'max_depth': 6, 'min_child_weight': 1, 'eta':...</td>\n",
       "      <td>4305333d-9fd0-4bac-8c75-97b51470e794</td>\n",
       "      <td>2020-10-29 11:46:00</td>\n",
       "    </tr>\n",
       "  </tbody>\n",
       "</table>\n",
       "</div>"
      ],
      "text/plain": [
       "                              features  n_features_in  accuracy          tag  \\\n",
       "4                 [age, sex, inet_amt]              3   0.92124  feature_200   \n",
       "5                 [age, sex, inet_amt]              3   0.92124  feature_200   \n",
       "2  [age, sex, inet_amt, year, weekday]              5   0.89924  feature_103   \n",
       "\n",
       "     user  elapsed_time    model  \\\n",
       "4  Trumph        0.0712  xgboost   \n",
       "5  Trumph        0.0712  xgboost   \n",
       "2  Trumph        0.0812  xgboost   \n",
       "\n",
       "                                    hyper_parameters  \\\n",
       "4  {'max_depth': 6, 'min_child_weight': 1, 'eta':...   \n",
       "5  {'max_depth': 6, 'min_child_weight': 1, 'eta':...   \n",
       "2  {'max_depth': 6, 'min_child_weight': 1, 'eta':...   \n",
       "\n",
       "                                    uid             datetime  \n",
       "4  9e7b2348-93f8-4933-85ca-519738d7bf35  2020-10-29 11:50:18  \n",
       "5  0690d158-940d-4c5f-86a4-d7984c48fcb4  2020-10-29 12:51:48  \n",
       "2  4305333d-9fd0-4bac-8c75-97b51470e794  2020-10-29 11:46:00  "
      ]
     },
     "execution_count": 59,
     "metadata": {},
     "output_type": "execute_result"
    }
   ],
   "source": [
    "rec.get_best(n=3)"
   ]
  },
  {
   "cell_type": "code",
   "execution_count": 60,
   "metadata": {},
   "outputs": [
    {
     "data": {
      "text/html": [
       "<div>\n",
       "<style scoped>\n",
       "    .dataframe tbody tr th:only-of-type {\n",
       "        vertical-align: middle;\n",
       "    }\n",
       "\n",
       "    .dataframe tbody tr th {\n",
       "        vertical-align: top;\n",
       "    }\n",
       "\n",
       "    .dataframe thead th {\n",
       "        text-align: right;\n",
       "    }\n",
       "</style>\n",
       "<table border=\"1\" class=\"dataframe\">\n",
       "  <thead>\n",
       "    <tr style=\"text-align: right;\">\n",
       "      <th></th>\n",
       "      <th>features</th>\n",
       "      <th>n_features_in</th>\n",
       "      <th>accuracy</th>\n",
       "      <th>tag</th>\n",
       "      <th>user</th>\n",
       "      <th>elapsed_time</th>\n",
       "      <th>model</th>\n",
       "      <th>hyper_parameters</th>\n",
       "      <th>uid</th>\n",
       "      <th>datetime</th>\n",
       "    </tr>\n",
       "  </thead>\n",
       "  <tbody>\n",
       "    <tr>\n",
       "      <th>5</th>\n",
       "      <td>[age, sex, inet_amt]</td>\n",
       "      <td>3</td>\n",
       "      <td>0.92124</td>\n",
       "      <td>feature_200</td>\n",
       "      <td>Trumph</td>\n",
       "      <td>0.0712</td>\n",
       "      <td>xgboost</td>\n",
       "      <td>{'max_depth': 6, 'min_child_weight': 1, 'eta':...</td>\n",
       "      <td>0690d158-940d-4c5f-86a4-d7984c48fcb4</td>\n",
       "      <td>2020-10-29 12:51:48</td>\n",
       "    </tr>\n",
       "    <tr>\n",
       "      <th>4</th>\n",
       "      <td>[age, sex, inet_amt]</td>\n",
       "      <td>3</td>\n",
       "      <td>0.92124</td>\n",
       "      <td>feature_200</td>\n",
       "      <td>Trumph</td>\n",
       "      <td>0.0712</td>\n",
       "      <td>xgboost</td>\n",
       "      <td>{'max_depth': 6, 'min_child_weight': 1, 'eta':...</td>\n",
       "      <td>9e7b2348-93f8-4933-85ca-519738d7bf35</td>\n",
       "      <td>2020-10-29 11:50:18</td>\n",
       "    </tr>\n",
       "    <tr>\n",
       "      <th>3</th>\n",
       "      <td>[age, sex, inet_amt]</td>\n",
       "      <td>3</td>\n",
       "      <td>0.86124</td>\n",
       "      <td>feature_104</td>\n",
       "      <td>Trumph</td>\n",
       "      <td>0.0712</td>\n",
       "      <td>xgboost</td>\n",
       "      <td>{'max_depth': 6, 'min_child_weight': 1, 'eta':...</td>\n",
       "      <td>ce036151-f51c-435d-bcbb-fb87f2147d97</td>\n",
       "      <td>2020-10-29 11:46:28</td>\n",
       "    </tr>\n",
       "    <tr>\n",
       "      <th>2</th>\n",
       "      <td>[age, sex, inet_amt, year, weekday]</td>\n",
       "      <td>5</td>\n",
       "      <td>0.89924</td>\n",
       "      <td>feature_103</td>\n",
       "      <td>Trumph</td>\n",
       "      <td>0.0812</td>\n",
       "      <td>xgboost</td>\n",
       "      <td>{'max_depth': 6, 'min_child_weight': 1, 'eta':...</td>\n",
       "      <td>4305333d-9fd0-4bac-8c75-97b51470e794</td>\n",
       "      <td>2020-10-29 11:46:00</td>\n",
       "    </tr>\n",
       "    <tr>\n",
       "      <th>1</th>\n",
       "      <td>[age, sex, inet_amt]</td>\n",
       "      <td>3</td>\n",
       "      <td>0.87224</td>\n",
       "      <td>feature_101</td>\n",
       "      <td>Melanija</td>\n",
       "      <td>0.1312</td>\n",
       "      <td>catboost</td>\n",
       "      <td>{'max_depth': 6, 'min_child_weight': 1, 'eta':...</td>\n",
       "      <td>4df8ff20-17f7-4b7f-88a2-13873ed31dbb</td>\n",
       "      <td>2020-10-29 11:44:55</td>\n",
       "    </tr>\n",
       "    <tr>\n",
       "      <th>0</th>\n",
       "      <td>[age, sex, inet_amt]</td>\n",
       "      <td>3</td>\n",
       "      <td>0.87124</td>\n",
       "      <td>feature_101</td>\n",
       "      <td>Trumph</td>\n",
       "      <td>0.0712</td>\n",
       "      <td>xgboost</td>\n",
       "      <td>{'max_depth': 6, 'min_child_weight': 1, 'eta':...</td>\n",
       "      <td>66bee151-e13a-4d02-a2ef-a96c100f0432</td>\n",
       "      <td>2020-10-29 11:41:53</td>\n",
       "    </tr>\n",
       "  </tbody>\n",
       "</table>\n",
       "</div>"
      ],
      "text/plain": [
       "                              features  n_features_in  accuracy          tag  \\\n",
       "5                 [age, sex, inet_amt]              3   0.92124  feature_200   \n",
       "4                 [age, sex, inet_amt]              3   0.92124  feature_200   \n",
       "3                 [age, sex, inet_amt]              3   0.86124  feature_104   \n",
       "2  [age, sex, inet_amt, year, weekday]              5   0.89924  feature_103   \n",
       "1                 [age, sex, inet_amt]              3   0.87224  feature_101   \n",
       "0                 [age, sex, inet_amt]              3   0.87124  feature_101   \n",
       "\n",
       "       user  elapsed_time     model  \\\n",
       "5    Trumph        0.0712   xgboost   \n",
       "4    Trumph        0.0712   xgboost   \n",
       "3    Trumph        0.0712   xgboost   \n",
       "2    Trumph        0.0812   xgboost   \n",
       "1  Melanija        0.1312  catboost   \n",
       "0    Trumph        0.0712   xgboost   \n",
       "\n",
       "                                    hyper_parameters  \\\n",
       "5  {'max_depth': 6, 'min_child_weight': 1, 'eta':...   \n",
       "4  {'max_depth': 6, 'min_child_weight': 1, 'eta':...   \n",
       "3  {'max_depth': 6, 'min_child_weight': 1, 'eta':...   \n",
       "2  {'max_depth': 6, 'min_child_weight': 1, 'eta':...   \n",
       "1  {'max_depth': 6, 'min_child_weight': 1, 'eta':...   \n",
       "0  {'max_depth': 6, 'min_child_weight': 1, 'eta':...   \n",
       "\n",
       "                                    uid             datetime  \n",
       "5  0690d158-940d-4c5f-86a4-d7984c48fcb4  2020-10-29 12:51:48  \n",
       "4  9e7b2348-93f8-4933-85ca-519738d7bf35  2020-10-29 11:50:18  \n",
       "3  ce036151-f51c-435d-bcbb-fb87f2147d97  2020-10-29 11:46:28  \n",
       "2  4305333d-9fd0-4bac-8c75-97b51470e794  2020-10-29 11:46:00  \n",
       "1  4df8ff20-17f7-4b7f-88a2-13873ed31dbb  2020-10-29 11:44:55  \n",
       "0  66bee151-e13a-4d02-a2ef-a96c100f0432  2020-10-29 11:41:53  "
      ]
     },
     "execution_count": 60,
     "metadata": {},
     "output_type": "execute_result"
    }
   ],
   "source": [
    "rec.get_recent(n=10)"
   ]
  },
  {
   "cell_type": "markdown",
   "metadata": {},
   "source": [
    "+ get_recent, get_best를 pandas DataFrame으로 받아서 query, plot 함수로 차트 구성 가능할 것"
   ]
  },
  {
   "cell_type": "code",
   "execution_count": 68,
   "metadata": {},
   "outputs": [
    {
     "data": {
      "image/png": "[encoded data removed]",
      "text/plain": [
       "<Figure size 864x576 with 1 Axes>"
      ]
     },
     "metadata": {
      "needs_background": "light"
     },
     "output_type": "display_data"
    }
   ],
   "source": [
    "(rec.get_recent(n=10, reverse=True)\n",
    " .query('user == \"Trumph\" and model == \"xgboost\"')\n",
    " .assign()\n",
    " .plot(kind='line', y='accuracy', figsize=(12,8)));"
   ]
  },
  {
   "cell_type": "markdown",
   "metadata": {},
   "source": [
    "## 5. 텍스트 검색"
   ]
  },
  {
   "cell_type": "code",
   "execution_count": 82,
   "metadata": {},
   "outputs": [
    {
     "data": {
      "text/html": [
       "<div>\n",
       "<style scoped>\n",
       "    .dataframe tbody tr th:only-of-type {\n",
       "        vertical-align: middle;\n",
       "    }\n",
       "\n",
       "    .dataframe tbody tr th {\n",
       "        vertical-align: top;\n",
       "    }\n",
       "\n",
       "    .dataframe thead th {\n",
       "        text-align: right;\n",
       "    }\n",
       "</style>\n",
       "<table border=\"1\" class=\"dataframe\">\n",
       "  <thead>\n",
       "    <tr style=\"text-align: right;\">\n",
       "      <th></th>\n",
       "      <th>features</th>\n",
       "      <th>n_features_in</th>\n",
       "      <th>accuracy</th>\n",
       "      <th>tag</th>\n",
       "      <th>user</th>\n",
       "      <th>elapsed_time</th>\n",
       "      <th>model</th>\n",
       "      <th>hyper_parameters</th>\n",
       "      <th>uid</th>\n",
       "      <th>datetime</th>\n",
       "    </tr>\n",
       "  </thead>\n",
       "  <tbody>\n",
       "    <tr>\n",
       "      <th>1</th>\n",
       "      <td>[age, sex, inet_amt]</td>\n",
       "      <td>3</td>\n",
       "      <td>0.87224</td>\n",
       "      <td>feature_101</td>\n",
       "      <td>Melanija</td>\n",
       "      <td>0.1312</td>\n",
       "      <td>catboost</td>\n",
       "      <td>{'max_depth': 6, 'min_child_weight': 1, 'eta':...</td>\n",
       "      <td>4df8ff20-17f7-4b7f-88a2-13873ed31dbb</td>\n",
       "      <td>2020-10-29 11:44:55</td>\n",
       "    </tr>\n",
       "  </tbody>\n",
       "</table>\n",
       "</div>"
      ],
      "text/plain": [
       "               features  n_features_in  accuracy          tag      user  \\\n",
       "1  [age, sex, inet_amt]              3   0.87224  feature_101  Melanija   \n",
       "\n",
       "   elapsed_time     model                                   hyper_parameters  \\\n",
       "1        0.1312  catboost  {'max_depth': 6, 'min_child_weight': 1, 'eta':...   \n",
       "\n",
       "                                    uid             datetime  \n",
       "1  4df8ff20-17f7-4b7f-88a2-13873ed31dbb  2020-10-29 11:44:55  "
      ]
     },
     "execution_count": 82,
     "metadata": {},
     "output_type": "execute_result"
    }
   ],
   "source": [
    "rec.query(key='user', value='Melanija')"
   ]
  },
  {
   "cell_type": "code",
   "execution_count": 83,
   "metadata": {},
   "outputs": [
    {
     "data": {
      "text/html": [
       "<div>\n",
       "<style scoped>\n",
       "    .dataframe tbody tr th:only-of-type {\n",
       "        vertical-align: middle;\n",
       "    }\n",
       "\n",
       "    .dataframe tbody tr th {\n",
       "        vertical-align: top;\n",
       "    }\n",
       "\n",
       "    .dataframe thead th {\n",
       "        text-align: right;\n",
       "    }\n",
       "</style>\n",
       "<table border=\"1\" class=\"dataframe\">\n",
       "  <thead>\n",
       "    <tr style=\"text-align: right;\">\n",
       "      <th></th>\n",
       "      <th>features</th>\n",
       "      <th>n_features_in</th>\n",
       "      <th>accuracy</th>\n",
       "      <th>tag</th>\n",
       "      <th>user</th>\n",
       "      <th>elapsed_time</th>\n",
       "      <th>model</th>\n",
       "      <th>hyper_parameters</th>\n",
       "      <th>uid</th>\n",
       "      <th>datetime</th>\n",
       "    </tr>\n",
       "  </thead>\n",
       "  <tbody>\n",
       "    <tr>\n",
       "      <th>0</th>\n",
       "      <td>[age, sex, inet_amt]</td>\n",
       "      <td>3</td>\n",
       "      <td>0.87124</td>\n",
       "      <td>feature_101</td>\n",
       "      <td>Trumph</td>\n",
       "      <td>0.0712</td>\n",
       "      <td>xgboost</td>\n",
       "      <td>{'max_depth': 6, 'min_child_weight': 1, 'eta':...</td>\n",
       "      <td>66bee151-e13a-4d02-a2ef-a96c100f0432</td>\n",
       "      <td>2020-10-29 11:41:53</td>\n",
       "    </tr>\n",
       "    <tr>\n",
       "      <th>1</th>\n",
       "      <td>[age, sex, inet_amt]</td>\n",
       "      <td>3</td>\n",
       "      <td>0.87224</td>\n",
       "      <td>feature_101</td>\n",
       "      <td>Melanija</td>\n",
       "      <td>0.1312</td>\n",
       "      <td>catboost</td>\n",
       "      <td>{'max_depth': 6, 'min_child_weight': 1, 'eta':...</td>\n",
       "      <td>4df8ff20-17f7-4b7f-88a2-13873ed31dbb</td>\n",
       "      <td>2020-10-29 11:44:55</td>\n",
       "    </tr>\n",
       "  </tbody>\n",
       "</table>\n",
       "</div>"
      ],
      "text/plain": [
       "               features  n_features_in  accuracy          tag      user  \\\n",
       "0  [age, sex, inet_amt]              3   0.87124  feature_101    Trumph   \n",
       "1  [age, sex, inet_amt]              3   0.87224  feature_101  Melanija   \n",
       "\n",
       "   elapsed_time     model                                   hyper_parameters  \\\n",
       "0        0.0712   xgboost  {'max_depth': 6, 'min_child_weight': 1, 'eta':...   \n",
       "1        0.1312  catboost  {'max_depth': 6, 'min_child_weight': 1, 'eta':...   \n",
       "\n",
       "                                    uid             datetime  \n",
       "0  66bee151-e13a-4d02-a2ef-a96c100f0432  2020-10-29 11:41:53  \n",
       "1  4df8ff20-17f7-4b7f-88a2-13873ed31dbb  2020-10-29 11:44:55  "
      ]
     },
     "execution_count": 83,
     "metadata": {},
     "output_type": "execute_result"
    }
   ],
   "source": [
    "rec.query(key='tag', value='101')"
   ]
  },
  {
   "cell_type": "code",
   "execution_count": 84,
   "metadata": {},
   "outputs": [
    {
     "data": {
      "text/html": [
       "<div>\n",
       "<style scoped>\n",
       "    .dataframe tbody tr th:only-of-type {\n",
       "        vertical-align: middle;\n",
       "    }\n",
       "\n",
       "    .dataframe tbody tr th {\n",
       "        vertical-align: top;\n",
       "    }\n",
       "\n",
       "    .dataframe thead th {\n",
       "        text-align: right;\n",
       "    }\n",
       "</style>\n",
       "<table border=\"1\" class=\"dataframe\">\n",
       "  <thead>\n",
       "    <tr style=\"text-align: right;\">\n",
       "      <th></th>\n",
       "      <th>features</th>\n",
       "      <th>n_features_in</th>\n",
       "      <th>accuracy</th>\n",
       "      <th>tag</th>\n",
       "      <th>user</th>\n",
       "      <th>elapsed_time</th>\n",
       "      <th>model</th>\n",
       "      <th>hyper_parameters</th>\n",
       "      <th>uid</th>\n",
       "      <th>datetime</th>\n",
       "    </tr>\n",
       "  </thead>\n",
       "  <tbody>\n",
       "    <tr>\n",
       "      <th>1</th>\n",
       "      <td>[age, sex, inet_amt]</td>\n",
       "      <td>3</td>\n",
       "      <td>0.87224</td>\n",
       "      <td>feature_101</td>\n",
       "      <td>Melanija</td>\n",
       "      <td>0.1312</td>\n",
       "      <td>catboost</td>\n",
       "      <td>{'max_depth': 6, 'min_child_weight': 1, 'eta':...</td>\n",
       "      <td>4df8ff20-17f7-4b7f-88a2-13873ed31dbb</td>\n",
       "      <td>2020-10-29 11:44:55</td>\n",
       "    </tr>\n",
       "  </tbody>\n",
       "</table>\n",
       "</div>"
      ],
      "text/plain": [
       "               features  n_features_in  accuracy          tag      user  \\\n",
       "1  [age, sex, inet_amt]              3   0.87224  feature_101  Melanija   \n",
       "\n",
       "   elapsed_time     model                                   hyper_parameters  \\\n",
       "1        0.1312  catboost  {'max_depth': 6, 'min_child_weight': 1, 'eta':...   \n",
       "\n",
       "                                    uid             datetime  \n",
       "1  4df8ff20-17f7-4b7f-88a2-13873ed31dbb  2020-10-29 11:44:55  "
      ]
     },
     "execution_count": 84,
     "metadata": {},
     "output_type": "execute_result"
    }
   ],
   "source": [
    "rec.query(key='model', value='catboost')"
   ]
  },
  {
   "cell_type": "code",
   "execution_count": null,
   "metadata": {},
   "outputs": [],
   "source": []
  }
 ],
 "metadata": {
  "kernelspec": {
   "display_name": "Python 3",
   "language": "python",
   "name": "python3"
  },
  "language_info": {
   "codemirror_mode": {
    "name": "ipython",
    "version": 3
   },
   "file_extension": ".py",
   "mimetype": "text/x-python",
   "name": "python",
   "nbconvert_exporter": "python",
   "pygments_lexer": "ipython3",
   "version": "3.7.3"
  }
 },
 "nbformat": 4,
 "nbformat_minor": 4
}
