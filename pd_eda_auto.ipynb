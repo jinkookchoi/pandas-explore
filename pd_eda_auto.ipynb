{
 "cells": [
  {
   "cell_type": "code",
   "execution_count": 1,
   "metadata": {},
   "outputs": [],
   "source": [
    "%load_ext autoreload\n",
    "%autoreload 2"
   ]
  },
  {
   "cell_type": "code",
   "execution_count": 12,
   "metadata": {},
   "outputs": [],
   "source": [
    "import numpy as np\n",
    "import pandas as pd\n",
    "import pandas_explore as exp\n",
    "from IPython.display import display, HTML, Markdown, Latex, Image"
   ]
  },
  {
   "cell_type": "code",
   "execution_count": 20,
   "metadata": {},
   "outputs": [],
   "source": [
    "df_auto_load = pd.read_csv('./data/auto-mpg.csv')"
   ]
  },
  {
   "cell_type": "code",
   "execution_count": 21,
   "metadata": {},
   "outputs": [],
   "source": [
    "df_auto = (df_auto_load\n",
    "   .replace({'horsepower':{'?':0}})\n",
    "   .astype({'horsepower':'int'})\n",
    "   .replace({'horsepower':{0:np.nan}})\n",
    "   .astype({'origin':'object'})\n",
    "  )"
   ]
  },
  {
   "cell_type": "code",
   "execution_count": 22,
   "metadata": {},
   "outputs": [
    {
     "data": {
      "text/markdown": [
       "# 1. Auto Datasets"
      ],
      "text/plain": [
       "<IPython.core.display.Markdown object>"
      ]
     },
     "metadata": {},
     "output_type": "display_data"
    },
    {
     "data": {
      "text/html": [
       "<table style=\"background-color:white;\"><tr><td style=\"vertical-align:top;text-align:left\"><h4>Statistics</h4><table style=\"background-color:white\"><tr><td >Number of variables</td><td >9</td></tr><tr><td >Number of observations</td><td >398</td></tr><tr><td >Missing cells</td><td >6</td></tr><tr><td >Missing cells (%)</td><td >0.167</td></tr><tr><td >Duplicated rows</td><td >0</td></tr><tr><td >Duplicated rows (%)</td><td >0.0</td></tr></table></td><td style=\"vertical-align:top;text-align:left\"><h4>variable types</h4><table style=\"background-color:white\"><tr><td >Numeric</td><td >7</td></tr><tr><td >Object</td><td >2</td></tr><tr><td >Category</td><td >0</td></tr><tr><td >Datetime</td><td >0</td></tr><tr><td >Timedeltas</td><td >0</td></tr></table></td></tr></table>"
      ],
      "text/plain": [
       "<IPython.core.display.HTML object>"
      ]
     },
     "metadata": {},
     "output_type": "display_data"
    }
   ],
   "source": [
    "exp.render_cols_table(\n",
    "    exp.render_dict_table(exp.dataset_stat(df_auto), f'#### Statistics', render=False), \n",
    "    exp.render_dict_table(exp.variable_types(df_auto), f'#### variable types', render=False),\n",
    "    render=True, title=f\"# 1. Auto Datasets\")"
   ]
  },
  {
   "cell_type": "code",
   "execution_count": 24,
   "metadata": {},
   "outputs": [
    {
     "data": {
      "text/markdown": [
       "# 2. Auto Variables"
      ],
      "text/plain": [
       "<IPython.core.display.Markdown object>"
      ]
     },
     "metadata": {},
     "output_type": "display_data"
    },
    {
     "data": {
      "text/markdown": [
       "## 2.1 mpg"
      ],
      "text/plain": [
       "<IPython.core.display.Markdown object>"
      ]
     },
     "metadata": {},
     "output_type": "display_data"
    },
    {
     "data": {
      "text/html": [
       "        <table style=\"background-color:white\">            <tr>                <td colspan=2 style=\"font-weight:bold;text-align:center;font-size:1.2em\">| Descriptive Stat. |</td>                <td style=\"font-weight:bold;text-align:center;font-size:1.2em\">| Quantile Stat. |</td>                <td style=\"font-weight:bold;text-align:center;font-size:1.2em\">| Common Values |</td>                <td style=\"font-weight:bold;text-align:center;font-size:1.2em\">| Min Values |</td>                <td style=\"font-weight:bold;text-align:center;font-size:1.2em\">| Max Values |</td>                <td style=\"font-weight:bold;text-align:center;font-size:1.2em\">| Histogram |</td>            </tr>            <tr>                <td><table style=\"background-color:white\"><tr><td style=\"font-weight:bold\">size</td><td >398</td></tr><tr><td style=\"font-weight:bold\">distinct</td><td >129</td></tr><tr><td style=\"font-weight:bold\">distinct(%)</td><td >32.41</td></tr><tr><td style=\"font-weight:bold\">missing</td><td >0</td></tr><tr><td style=\"font-weight:bold\">missing(%)</td><td >0.00</td></tr><tr><td style=\"font-weight:bold\">minimum</td><td >9.0</td></tr><tr><td style=\"font-weight:bold\">maximum</td><td >46.6</td></tr></table></td>                <td><table style=\"background-color:white\"><tr><td style=\"font-weight:bold\">zeros</td><td >0</td></tr><tr><td style=\"font-weight:bold\">zeros(%)</td><td >0.00</td></tr><tr><td style=\"font-weight:bold\">mean</td><td >23.51</td></tr><tr><td style=\"font-weight:bold\">median</td><td >23.00</td></tr><tr><td style=\"font-weight:bold\">sum</td><td >9358.80</td></tr><tr><td style=\"font-weight:bold\">sd</td><td >7.82</td></tr><tr><td style=\"font-weight:bold\">skewness</td><td >0.46</td></tr></table></td>                <td><table style=\"background-color:white\"><tr><td style=\"font-weight:bold\">minimun</td><td >9.0</td></tr><tr><td style=\"font-weight:bold\">5-th per.</td><td >13.00</td></tr><tr><td style=\"font-weight:bold\">Q1</td><td >17.50</td></tr><tr><td style=\"font-weight:bold\">median</td><td >23.0</td></tr><tr><td style=\"font-weight:bold\">Q3</td><td >29.00</td></tr><tr><td style=\"font-weight:bold\">95-th per.</td><td >37.03</td></tr><tr><td style=\"font-weight:bold\">maximum</td><td >46.6</td></tr></table></td>                <td><table style=\"background-color:white\"><tr><td style=\"font-weight:bold\">value</td><td style=\"font-weight:bold\">count</td><td style=\"font-weight:bold\">ratio(%)</td></tr><tr><td >13.0</td><td >20</td><td >5.00</td></tr><tr><td >14.0</td><td >19</td><td >4.70</td></tr><tr><td >18.0</td><td >17</td><td >4.20</td></tr><tr><td >15.0</td><td >16</td><td >4.00</td></tr><tr><td >26.0</td><td >14</td><td >3.50</td></tr><tr><td >16.0</td><td >13</td><td >3.20</td></tr></table></td>                <td><table style=\"background-color:white\"><tr><td style=\"font-weight:bold\">value</td><td style=\"font-weight:bold\">count</td><td style=\"font-weight:bold\">ratio(%)</td></tr><tr><td >9.0</td><td >1</td><td >0.20</td></tr><tr><td >10.0</td><td >2</td><td >0.50</td></tr><tr><td >11.0</td><td >4</td><td >1.00</td></tr><tr><td >12.0</td><td >6</td><td >1.50</td></tr><tr><td >13.0</td><td >20</td><td >5.00</td></tr><tr><td >14.0</td><td >19</td><td >4.70</td></tr></table></td>                <td><table style=\"background-color:white\"><tr><td style=\"font-weight:bold\">value</td><td style=\"font-weight:bold\">count</td><td style=\"font-weight:bold\">ratio(%)</td></tr><tr><td >43.1</td><td >1</td><td >0.20</td></tr><tr><td >43.4</td><td >1</td><td >0.20</td></tr><tr><td >44.0</td><td >1</td><td >0.20</td></tr><tr><td >44.3</td><td >1</td><td >0.20</td></tr><tr><td >44.6</td><td >1</td><td >0.20</td></tr><tr><td >46.6</td><td >1</td><td >0.20</td></tr></table></td>                <td><img src=\"data:image/png;base64,iVBORw0KGgoAAAANSUhEUgAAASAAAADYCAYAAABLNT5AAAAAOXRFWHRTb2Z0d2FyZQBNYXRwbG90bGliIHZlcnNpb24zLjMuMiwgaHR0cHM6Ly9tYXRwbG90bGliLm9yZy8vihELAAAACXBIWXMAAAsTAAALEwEAmpwYAAAOGUlEQVR4nO3de6xlZX3G8e/DiAG8IYJTwoCDlUBJlEtHq1EbxdLSYtGmlmq1IYZIL7bBaGORNFWbNoE/KtLGWq230aqAKGqV2iKi1qQBZwQrMhqQQgWBGS8EsAYEf/1jrYEzw9rTYc7a5z177+8nmZy13r33Wu+bkId1fX+pKiSphb1ad0DS4jKAJDVjAElqxgCS1IwBJKkZA0hSMwaQpGYMIEnNGECSmjGAJDVjAElqxgCS1IwBJKkZA0hSMwaQpGYMIEnNGECSmjGAJDVjAElqxgCS1IwBJKkZA0hSMwaQpGYMIEnNGECSmnlU6w7s7MADD6z169e37oa0cDZv3vz9qjpoJfe56gJo/fr1bNq0qXU3pIWT5OaV3qenYJKaMYAkNWMASWrGAJLUjAEkqRkDSFIzq+42/CJYf9Znl/X7m845eaSeSG2NdgSUZP8kFyf5VpItSZ6T5IAklyW5vv/7xLH2J2n2jXkKdj7wuao6CjgG2AKcBVxeVUcAl/frkgSMFEBJngD8MvBegKq6r6ruBF4CbOy/thF46Rj7kzQfxjoCOhzYBrw/ydVJ3pPkMcDaqrqt/87twNqR9idpDowVQI8CjgfeWVXHAT9mp9Otqiqghn6c5Iwkm5Js2rZt20hdkrTajRVAtwC3VNWV/frFdIF0R5KDAfq/W4d+XFXvrqoNVbXhoINW9GVcSQ2NEkBVdTvw3SRH9k0vAq4DPg2c1redBnxqjP1Jmg9jPgf0p8CHkzwauBF4NV3AXZTkdOBm4NQR9ydpxo0WQFV1DbBh4KMXjbUPSfPFVzEkNWMASWrGAJLUjAEkqRkDSFIzBpCkZgwgSc0YQJKaMYAkNWMASWrGAJLUjAEkqRmrYuyB5Va1kNTxCEhSMwaQpGY8BVswFkXUajJaACW5CbgbeAC4v6o2JDkAuBBYD9wEnFpVPxprn5Jm29inYC+sqmOravvMiBYmlDTRtK8BWZhQ0kRjBlAB/55kc5Iz+jYLE0qaaMyL0M+rqluTPBm4LMm3ln5YVZVkYmFC4AyAww47bMQuSVrNRjsCqqpb+79bgUuAZ2FhQkm7MEoAJXlMksdtXwZ+FbgWCxNK2oWxTsHWApck2b7Nj1TV55J8FQsTSppglACqqhuBYwbaf4CFCSVN4KsYkpoxgCQ1YwBJasYAktSMASSpmYWdjsNZDaX2PAKS1IwBJKkZA0hSMwaQpGYMIEnNGECSmjGAJDVjAElq5mEBlOTpLToiafEMHQH9Q5KrkvxxkieseI8kLYyHBVBVPR94JXAosDnJR5KcuDsbS7ImydVJPtOvH57kyiQ3JLkwyaNH7b2kmTb4LlhVXZ/kL4BNwN8Bx6Wbb/XsqvrELrZ3JrAFeHy/fi5wXlVdkOQfgdOBd47We6245bxDZ1ln7WzoGtAzkpxHFyQnAL9ZVb/QL583aUNJ1gEnA+/p19P/5uL+KxYmlLSDoSOgv6cLkbOr6ifbG6vqe/1R0SRvB94IPK5ffxJwZ1Xd36/fAhyy7B5LmhtDAXQy8JOqegAgyV7APlX1v1X1oaGNJHkxsLWqNid5wSPthIUJHxmnEtG8GLoL9nlg3yXr+/Vtu/Jc4JQkNwEX0J16nQ/sn2R7yK0Dbh36sYUJpcU0FED7VNU921f65f12tZGqelNVrauq9cDLgS9U1SuBK4CX9V+zMKGkHQwF0I+THL99JckvAj8Z+N7u+HPg9UluoLsm9N493I6kOTR0Deh1wMeSfA8I8HPA7+7uBqvqi8AX++Ub6WrES9LDPCyAquqrSY4Cjuybvl1VP13ZbklaBJMmpX8msL7//PgkVNUHV6xXkhbCwwIoyYeAnweuAR7omwswgCSNaugIaANwdFXVSndG0mIZugt2Ld2FZ0maqqEjoAOB65JcBdy7vbGqTlmxXmkuLfcJbl9mnT9DAfSWle6EpMU0dBv+S0meAhxRVZ9Psh+wZuW7JmneDU3H8Rq6KTTe1TcdAnxyBfskaUEMXYR+Ld3LpXdBNzkZ8OSV7JSkxTAUQPdW1X3bV/q32b0lL2l0QwH0pSRnA/v2c0F/DPiXle2WpEUwFEBnAduAbwB/AFwK7GomREnaI0N3wX4G/FP/T5KmZuhdsP9m4JpPVT11RXokaWFMehdsu32A3wEOWJnuSFokQ4UJf7Dk361V9Xa6ieonSrJPX03160m+meStfbuFCSVNNHQKdvyS1b3ojogmzRu03b3ACVV1T5K9ga8k+Vfg9ViYUNIEQ8Hyt0uW7wduAk7d1Ub6qTu2T2S/d/+v6Kpj/F7fvpHuPTMDSBIwfBfshXuyoSRrgM3A04B3AN/BwoSSdmHoFOz1u/pBVb1tQvsDwLFJ9gcuAY7a3U5YmFBaTEMPIm4A/ojuaOUQ4A+B4+lKLj9u4Ps7qKo76eqBPQcLE0rahaFrQOuA46vqboAkbwE+W1WvmrSRJAcBP62qO5PsC5wInMtDhQkvwMKEknYyFEBrgfuWrN/Xt+3KwcDG/jrQXsBFVfWZJNcBFyT5a+BqLEwoaYmhAPogcFWSS/r1l9LdwZqoqv4LOG6g3cKEkiYaugv2N/0zPM/vm15dVVevbLckLYKhi9AA+wF3VdX5wC1JDl/BPklaEEO34d9MdyfsSOD9dA8V/jPdLIlSM1bVmD9DR0C/BZwC/Bigqr7Hbtx+l6RHaiiA7utfrSiAJI9Z2S5JWhRDAXRRknfRPUT4GuDzODmZpCnY4RpQkgAX0r1GcRfddaC/rKrLGvRN0pzbIYCqqpJcWlVPBwwdSVM1dAr2tSTPXPGeSFo4Q09C/xLwqiQ30d0JC93B0TNWsmOS5t+DAZTksKr6H+DXGvZH0gJZegT0Sbq34G9O8vGq+u1GfZK0IJZeA8qSZUvwSJq6pQFUE5YlaSqWnoIdk+QuuiOhfftleOgi9ONXvHeS5tqDAVRVa1p2RNLimTQdxyOS5NAkVyS5ri9MeGbffkCSy5Jc3/994hj7kzQfRgkguvphb6iqo4FnA69NcjRwFnB5VR0BXN6vSxIwUgBV1W1V9bV++W5gC11FjZfw0HSuG+mmd5UkYLwjoAclWU83P/SVwNqquq3/6Hb+/8ntJS2QUQMoyWOBjwOvq6q7ln62dI6hgd+dkWRTkk3btm0bs0uSVrHRAijJ3nTh8+Gq+kTffEeSg/vPDwa2Dv3WwoTSYhrrLljoan5t2al086fpChKChQkl7WTobfg98Vzg94FvJLmmbzsbOIduhsXTgZuBU0fan6Q5MEoAVdVX2PFdsqVeNMY+JM2f0e+CSdLuMoAkNTPWNSBp1VtOYUOLGk6HR0CSmjGAJDVjAElqxgCS1IwBJKkZA0hSMwaQpGYMIEnNGECSmjGAJDVjAElqxgCS1IwBJKmZMeeEfl+SrUmuXdJmYUJJE415BPQB4KSd2ixMKGmi0QKoqr4M/HCnZgsTSppo2teALEwoaaIVuwhtYUJJO5t2AFmYUNJE054TenthwnOwMKFm2HLmkwbnlJ5kzNvwHwX+EzgyyS19McJzgBOTXA/8Sr8uScCIR0BV9YoJH1mYUNIgn4SW1IwBJKmZmS1MuNyLgpLa8whIUjMGkKRmDCBJzRhAkpoxgCQ1YwBJasYAktTMzD4HJM2Sls+treYXYT0CktSMASSpGQNIUjMGkKRmDCBJzUw9gJKclOTbSW5IYl0wSQ+aagAlWQO8A/h14GjgFUmOnuY+Jc2OaR8BPQu4oapurKr7gAvoihVK0tQD6BDgu0vWb+nbJGl1PAmd5AzgjH71niTfXsbmDgS+v/xerTrzOK55HBOssnHl3N3+6lOm2I1B0w6gW4FDl6yv69t2UFXvBt49xg6TbKqqDWNsazWZx3HN45hgfsc1DdM+BfsqcESSw5M8Gng5XbFCSZruEVBV3Z/kT4B/A9YA76uqb05zn5Jmx9SvAVXVpcCl097PEqOcyq1C8ziueRwTzO+4Rpeqat0HSQvKVzEkNTOzAZTkfUm2Jrl2SdsBSS5Lcn3/94kt+7gnkhya5Iok1yX5ZpIz+/aZHluSfZJcleTr/bje2rcfnuTK/lWdC/ubFTMnyZokVyf5TL8+F+OatpkNIOADwEk7tZ0FXF5VRwCX9+uz5n7gDVV1NPBs4LX96yuzPrZ7gROq6hjgWOCkJM8GzgXOq6qnAT8CTm/XxWU5E9iyZH1exjVVMxtAVfVl4Ic7Nb8E2NgvbwReupJ9GkNV3VZVX+uX76b7j/oQZnxs1bmnX927/1fACcDFffvMjQsgyTrgZOA9/XqYg3GthJkNoAnWVtVt/fLtwNqWnVmuJOuB44ArmYOx9acp1wBbgcuA7wB3VtX9/Vdm9VWdtwNvBH7Wrz+J+RjX1M1bAD2outt7M3uLL8ljgY8Dr6uqu5Z+Nqtjq6oHqupYuifinwUc1bZHy5fkxcDWqtrcui+zaFW8CzaiO5IcXFW3JTmY7v+0MyfJ3nTh8+Gq+kTfPBdjA6iqO5NcATwH2D/Jo/qjhcFXdVa55wKnJPkNYB/g8cD5zP64VsS8HQF9GjitXz4N+FTDvuyR/vrBe4EtVfW2JR/N9NiSHJRk/355X+BEuutbVwAv6782c+OqqjdV1bqqWk/3qtEXquqVzPi4VsrMPoiY5KPAC+jePL4DeDPwSeAi4DDgZuDUqtr5QvWqluR5wH8A3+Chawpn010HmtmxJXkG3cXYNXT/47uoqv4qyVPp5ok6ALgaeFVV3duup3suyQuAP6uqF8/TuKZpZgNI0uybt1MwSTPEAJLUjAEkqRkDSFIzBpCkZgwgSc0YQJKaMYAkNWMASWrGAJLUjAEkqZn/A5uYQC8CQ1wRAAAAAElFTkSuQmCC\"></td>            </tr>        </table>        "
      ],
      "text/plain": [
       "<IPython.core.display.HTML object>"
      ]
     },
     "metadata": {},
     "output_type": "display_data"
    },
    {
     "data": {
      "text/markdown": [
       "----------"
      ],
      "text/plain": [
       "<IPython.core.display.Markdown object>"
      ]
     },
     "metadata": {},
     "output_type": "display_data"
    },
    {
     "data": {
      "text/markdown": [
       "## 2.2 cylinders"
      ],
      "text/plain": [
       "<IPython.core.display.Markdown object>"
      ]
     },
     "metadata": {},
     "output_type": "display_data"
    },
    {
     "data": {
      "text/html": [
       "        <table style=\"background-color:white\">            <tr>                <td colspan=2 style=\"font-weight:bold;text-align:center;font-size:1.2em\">| Descriptive Stat. |</td>                <td style=\"font-weight:bold;text-align:center;font-size:1.2em\">| Quantile Stat. |</td>                <td style=\"font-weight:bold;text-align:center;font-size:1.2em\">| Common Values |</td>                <td style=\"font-weight:bold;text-align:center;font-size:1.2em\">| Min Values |</td>                <td style=\"font-weight:bold;text-align:center;font-size:1.2em\">| Max Values |</td>                <td style=\"font-weight:bold;text-align:center;font-size:1.2em\">| Histogram |</td>            </tr>            <tr>                <td><table style=\"background-color:white\"><tr><td style=\"font-weight:bold\">size</td><td >398</td></tr><tr><td style=\"font-weight:bold\">distinct</td><td >5</td></tr><tr><td style=\"font-weight:bold\">distinct(%)</td><td >1.26</td></tr><tr><td style=\"font-weight:bold\">missing</td><td >0</td></tr><tr><td style=\"font-weight:bold\">missing(%)</td><td >0.00</td></tr><tr><td style=\"font-weight:bold\">minimum</td><td >3</td></tr><tr><td style=\"font-weight:bold\">maximum</td><td >8</td></tr></table></td>                <td><table style=\"background-color:white\"><tr><td style=\"font-weight:bold\">zeros</td><td >0</td></tr><tr><td style=\"font-weight:bold\">zeros(%)</td><td >0.00</td></tr><tr><td style=\"font-weight:bold\">mean</td><td >5.45</td></tr><tr><td style=\"font-weight:bold\">median</td><td >4.00</td></tr><tr><td style=\"font-weight:bold\">sum</td><td >2171.00</td></tr><tr><td style=\"font-weight:bold\">sd</td><td >1.70</td></tr><tr><td style=\"font-weight:bold\">skewness</td><td >0.53</td></tr></table></td>                <td><table style=\"background-color:white\"><tr><td style=\"font-weight:bold\">minimun</td><td >3.0</td></tr><tr><td style=\"font-weight:bold\">5-th per.</td><td >4.00</td></tr><tr><td style=\"font-weight:bold\">Q1</td><td >4.00</td></tr><tr><td style=\"font-weight:bold\">median</td><td >4.0</td></tr><tr><td style=\"font-weight:bold\">Q3</td><td >8.00</td></tr><tr><td style=\"font-weight:bold\">95-th per.</td><td >8.00</td></tr><tr><td style=\"font-weight:bold\">maximum</td><td >8.0</td></tr></table></td>                <td><table style=\"background-color:white\"><tr><td style=\"font-weight:bold\">value</td><td style=\"font-weight:bold\">count</td><td style=\"font-weight:bold\">ratio(%)</td></tr><tr><td >4.0</td><td >204</td><td >51.20</td></tr><tr><td >8.0</td><td >103</td><td >25.80</td></tr><tr><td >6.0</td><td >84</td><td >21.10</td></tr><tr><td >3.0</td><td >4</td><td >1.00</td></tr><tr><td >5.0</td><td >3</td><td >0.70</td></tr></table></td>                <td><table style=\"background-color:white\"><tr><td style=\"font-weight:bold\">value</td><td style=\"font-weight:bold\">count</td><td style=\"font-weight:bold\">ratio(%)</td></tr><tr><td >3.0</td><td >4</td><td >1.00</td></tr><tr><td >4.0</td><td >204</td><td >51.20</td></tr><tr><td >5.0</td><td >3</td><td >0.70</td></tr><tr><td >6.0</td><td >84</td><td >21.10</td></tr><tr><td >8.0</td><td >103</td><td >25.80</td></tr></table></td>                <td><table style=\"background-color:white\"><tr><td style=\"font-weight:bold\">value</td><td style=\"font-weight:bold\">count</td><td style=\"font-weight:bold\">ratio(%)</td></tr><tr><td >3.0</td><td >4</td><td >1.00</td></tr><tr><td >4.0</td><td >204</td><td >51.20</td></tr><tr><td >5.0</td><td >3</td><td >0.70</td></tr><tr><td >6.0</td><td >84</td><td >21.10</td></tr><tr><td >8.0</td><td >103</td><td >25.80</td></tr></table></td>                <td><img src=\"data:image/png;base64,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\"></td>            </tr>        </table>        "
      ],
      "text/plain": [
       "<IPython.core.display.HTML object>"
      ]
     },
     "metadata": {},
     "output_type": "display_data"
    },
    {
     "data": {
      "text/markdown": [
       "----------"
      ],
      "text/plain": [
       "<IPython.core.display.Markdown object>"
      ]
     },
     "metadata": {},
     "output_type": "display_data"
    },
    {
     "data": {
      "text/markdown": [
       "## 2.3 displacement"
      ],
      "text/plain": [
       "<IPython.core.display.Markdown object>"
      ]
     },
     "metadata": {},
     "output_type": "display_data"
    },
    {
     "data": {
      "text/html": [
       "        <table style=\"background-color:white\">            <tr>                <td colspan=2 style=\"font-weight:bold;text-align:center;font-size:1.2em\">| Descriptive Stat. |</td>                <td style=\"font-weight:bold;text-align:center;font-size:1.2em\">| Quantile Stat. |</td>                <td style=\"font-weight:bold;text-align:center;font-size:1.2em\">| Common Values |</td>                <td style=\"font-weight:bold;text-align:center;font-size:1.2em\">| Min Values |</td>                <td style=\"font-weight:bold;text-align:center;font-size:1.2em\">| Max Values |</td>                <td style=\"font-weight:bold;text-align:center;font-size:1.2em\">| Histogram |</td>            </tr>            <tr>                <td><table style=\"background-color:white\"><tr><td style=\"font-weight:bold\">size</td><td >398</td></tr><tr><td style=\"font-weight:bold\">distinct</td><td >82</td></tr><tr><td style=\"font-weight:bold\">distinct(%)</td><td >20.60</td></tr><tr><td style=\"font-weight:bold\">missing</td><td >0</td></tr><tr><td style=\"font-weight:bold\">missing(%)</td><td >0.00</td></tr><tr><td style=\"font-weight:bold\">minimum</td><td >68.0</td></tr><tr><td style=\"font-weight:bold\">maximum</td><td >455.0</td></tr></table></td>                <td><table style=\"background-color:white\"><tr><td style=\"font-weight:bold\">zeros</td><td >0</td></tr><tr><td style=\"font-weight:bold\">zeros(%)</td><td >0.00</td></tr><tr><td style=\"font-weight:bold\">mean</td><td >193.43</td></tr><tr><td style=\"font-weight:bold\">median</td><td >148.50</td></tr><tr><td style=\"font-weight:bold\">sum</td><td >76983.50</td></tr><tr><td style=\"font-weight:bold\">sd</td><td >104.27</td></tr><tr><td style=\"font-weight:bold\">skewness</td><td >0.72</td></tr></table></td>                <td><table style=\"background-color:white\"><tr><td style=\"font-weight:bold\">minimun</td><td >68.0</td></tr><tr><td style=\"font-weight:bold\">5-th per.</td><td >85.00</td></tr><tr><td style=\"font-weight:bold\">Q1</td><td >104.25</td></tr><tr><td style=\"font-weight:bold\">median</td><td >148.5</td></tr><tr><td style=\"font-weight:bold\">Q3</td><td >262.00</td></tr><tr><td style=\"font-weight:bold\">95-th per.</td><td >400.00</td></tr><tr><td style=\"font-weight:bold\">maximum</td><td >455.0</td></tr></table></td>                <td><table style=\"background-color:white\"><tr><td style=\"font-weight:bold\">value</td><td style=\"font-weight:bold\">count</td><td style=\"font-weight:bold\">ratio(%)</td></tr><tr><td >97.0</td><td >21</td><td >5.20</td></tr><tr><td >98.0</td><td >18</td><td >4.50</td></tr><tr><td >350.0</td><td >18</td><td >4.50</td></tr><tr><td >250.0</td><td >17</td><td >4.20</td></tr><tr><td >318.0</td><td >17</td><td >4.20</td></tr><tr><td >140.0</td><td >16</td><td >4.00</td></tr></table></td>                <td><table style=\"background-color:white\"><tr><td style=\"font-weight:bold\">value</td><td style=\"font-weight:bold\">count</td><td style=\"font-weight:bold\">ratio(%)</td></tr><tr><td >68.0</td><td >1</td><td >0.20</td></tr><tr><td >70.0</td><td >3</td><td >0.70</td></tr><tr><td >71.0</td><td >2</td><td >0.50</td></tr><tr><td >72.0</td><td >1</td><td >0.20</td></tr><tr><td >76.0</td><td >1</td><td >0.20</td></tr><tr><td >78.0</td><td >1</td><td >0.20</td></tr></table></td>                <td><table style=\"background-color:white\"><tr><td style=\"font-weight:bold\">value</td><td style=\"font-weight:bold\">count</td><td style=\"font-weight:bold\">ratio(%)</td></tr><tr><td >390.0</td><td >1</td><td >0.20</td></tr><tr><td >400.0</td><td >13</td><td >3.20</td></tr><tr><td >429.0</td><td >3</td><td >0.70</td></tr><tr><td >440.0</td><td >2</td><td >0.50</td></tr><tr><td >454.0</td><td >1</td><td >0.20</td></tr><tr><td >455.0</td><td >3</td><td >0.70</td></tr></table></td>                <td><img src=\"data:image/png;base64,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\"></td>            </tr>        </table>        "
      ],
      "text/plain": [
       "<IPython.core.display.HTML object>"
      ]
     },
     "metadata": {},
     "output_type": "display_data"
    },
    {
     "data": {
      "text/markdown": [
       "----------"
      ],
      "text/plain": [
       "<IPython.core.display.Markdown object>"
      ]
     },
     "metadata": {},
     "output_type": "display_data"
    },
    {
     "data": {
      "text/markdown": [
       "## 2.4 horsepower"
      ],
      "text/plain": [
       "<IPython.core.display.Markdown object>"
      ]
     },
     "metadata": {},
     "output_type": "display_data"
    },
    {
     "data": {
      "text/html": [
       "        <table style=\"background-color:white\">            <tr>                <td colspan=2 style=\"font-weight:bold;text-align:center;font-size:1.2em\">| Descriptive Stat. |</td>                <td style=\"font-weight:bold;text-align:center;font-size:1.2em\">| Quantile Stat. |</td>                <td style=\"font-weight:bold;text-align:center;font-size:1.2em\">| Common Values |</td>                <td style=\"font-weight:bold;text-align:center;font-size:1.2em\">| Min Values |</td>                <td style=\"font-weight:bold;text-align:center;font-size:1.2em\">| Max Values |</td>                <td style=\"font-weight:bold;text-align:center;font-size:1.2em\">| Histogram |</td>            </tr>            <tr>                <td><table style=\"background-color:white\"><tr><td style=\"font-weight:bold\">size</td><td >398</td></tr><tr><td style=\"font-weight:bold\">distinct</td><td >94</td></tr><tr><td style=\"font-weight:bold\">distinct(%)</td><td >23.62</td></tr><tr><td style=\"font-weight:bold\">missing</td><td >6</td></tr><tr><td style=\"font-weight:bold\">missing(%)</td><td >1.51</td></tr><tr><td style=\"font-weight:bold\">minimum</td><td >46.0</td></tr><tr><td style=\"font-weight:bold\">maximum</td><td >230.0</td></tr></table></td>                <td><table style=\"background-color:white\"><tr><td style=\"font-weight:bold\">zeros</td><td >0</td></tr><tr><td style=\"font-weight:bold\">zeros(%)</td><td >0.00</td></tr><tr><td style=\"font-weight:bold\">mean</td><td >104.47</td></tr><tr><td style=\"font-weight:bold\">median</td><td >93.50</td></tr><tr><td style=\"font-weight:bold\">sum</td><td >40952.00</td></tr><tr><td style=\"font-weight:bold\">sd</td><td >38.49</td></tr><tr><td style=\"font-weight:bold\">skewness</td><td >1.09</td></tr></table></td>                <td><table style=\"background-color:white\"><tr><td style=\"font-weight:bold\">minimun</td><td >46.0</td></tr><tr><td style=\"font-weight:bold\">5-th per.</td><td >60.55</td></tr><tr><td style=\"font-weight:bold\">Q1</td><td >75.00</td></tr><tr><td style=\"font-weight:bold\">median</td><td >93.5</td></tr><tr><td style=\"font-weight:bold\">Q3</td><td >126.00</td></tr><tr><td style=\"font-weight:bold\">95-th per.</td><td >180.00</td></tr><tr><td style=\"font-weight:bold\">maximum</td><td >230.0</td></tr></table></td>                <td><table style=\"background-color:white\"><tr><td style=\"font-weight:bold\">value</td><td style=\"font-weight:bold\">count</td><td style=\"font-weight:bold\">ratio(%)</td></tr><tr><td >150.0</td><td >22</td><td >5.60</td></tr><tr><td >90.0</td><td >20</td><td >5.10</td></tr><tr><td >88.0</td><td >19</td><td >4.80</td></tr><tr><td >110.0</td><td >18</td><td >4.50</td></tr><tr><td >100.0</td><td >17</td><td >4.30</td></tr><tr><td >95.0</td><td >14</td><td >3.50</td></tr></table></td>                <td><table style=\"background-color:white\"><tr><td style=\"font-weight:bold\">value</td><td style=\"font-weight:bold\">count</td><td style=\"font-weight:bold\">ratio(%)</td></tr><tr><td >46.0</td><td >2</td><td >0.50</td></tr><tr><td >48.0</td><td >3</td><td >0.70</td></tr><tr><td >49.0</td><td >1</td><td >0.20</td></tr><tr><td >52.0</td><td >4</td><td >1.00</td></tr><tr><td >53.0</td><td >2</td><td >0.50</td></tr><tr><td >54.0</td><td >1</td><td >0.20</td></tr></table></td>                <td><table style=\"background-color:white\"><tr><td style=\"font-weight:bold\">value</td><td style=\"font-weight:bold\">count</td><td style=\"font-weight:bold\">ratio(%)</td></tr><tr><td >208.0</td><td >1</td><td >0.20</td></tr><tr><td >210.0</td><td >1</td><td >0.20</td></tr><tr><td >215.0</td><td >3</td><td >0.70</td></tr><tr><td >220.0</td><td >1</td><td >0.20</td></tr><tr><td >225.0</td><td >3</td><td >0.70</td></tr><tr><td >230.0</td><td >1</td><td >0.20</td></tr></table></td>                <td><img src=\"data:image/png;base64,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\"></td>            </tr>        </table>        "
      ],
      "text/plain": [
       "<IPython.core.display.HTML object>"
      ]
     },
     "metadata": {},
     "output_type": "display_data"
    },
    {
     "data": {
      "text/markdown": [
       "----------"
      ],
      "text/plain": [
       "<IPython.core.display.Markdown object>"
      ]
     },
     "metadata": {},
     "output_type": "display_data"
    },
    {
     "data": {
      "text/markdown": [
       "## 2.5 weight"
      ],
      "text/plain": [
       "<IPython.core.display.Markdown object>"
      ]
     },
     "metadata": {},
     "output_type": "display_data"
    },
    {
     "data": {
      "text/html": [
       "        <table style=\"background-color:white\">            <tr>                <td colspan=2 style=\"font-weight:bold;text-align:center;font-size:1.2em\">| Descriptive Stat. |</td>                <td style=\"font-weight:bold;text-align:center;font-size:1.2em\">| Quantile Stat. |</td>                <td style=\"font-weight:bold;text-align:center;font-size:1.2em\">| Common Values |</td>                <td style=\"font-weight:bold;text-align:center;font-size:1.2em\">| Min Values |</td>                <td style=\"font-weight:bold;text-align:center;font-size:1.2em\">| Max Values |</td>                <td style=\"font-weight:bold;text-align:center;font-size:1.2em\">| Histogram |</td>            </tr>            <tr>                <td><table style=\"background-color:white\"><tr><td style=\"font-weight:bold\">size</td><td >398</td></tr><tr><td style=\"font-weight:bold\">distinct</td><td >351</td></tr><tr><td style=\"font-weight:bold\">distinct(%)</td><td >88.19</td></tr><tr><td style=\"font-weight:bold\">missing</td><td >0</td></tr><tr><td style=\"font-weight:bold\">missing(%)</td><td >0.00</td></tr><tr><td style=\"font-weight:bold\">minimum</td><td >1613</td></tr><tr><td style=\"font-weight:bold\">maximum</td><td >5140</td></tr></table></td>                <td><table style=\"background-color:white\"><tr><td style=\"font-weight:bold\">zeros</td><td >0</td></tr><tr><td style=\"font-weight:bold\">zeros(%)</td><td >0.00</td></tr><tr><td style=\"font-weight:bold\">mean</td><td >2970.42</td></tr><tr><td style=\"font-weight:bold\">median</td><td >2803.50</td></tr><tr><td style=\"font-weight:bold\">sum</td><td >1182229.00</td></tr><tr><td style=\"font-weight:bold\">sd</td><td >846.84</td></tr><tr><td style=\"font-weight:bold\">skewness</td><td >0.53</td></tr></table></td>                <td><table style=\"background-color:white\"><tr><td style=\"font-weight:bold\">minimun</td><td >1613.0</td></tr><tr><td style=\"font-weight:bold\">5-th per.</td><td >1923.50</td></tr><tr><td style=\"font-weight:bold\">Q1</td><td >2223.75</td></tr><tr><td style=\"font-weight:bold\">median</td><td >2803.5</td></tr><tr><td style=\"font-weight:bold\">Q3</td><td >3608.00</td></tr><tr><td style=\"font-weight:bold\">95-th per.</td><td >4464.00</td></tr><tr><td style=\"font-weight:bold\">maximum</td><td >5140.0</td></tr></table></td>                <td><table style=\"background-color:white\"><tr><td style=\"font-weight:bold\">value</td><td style=\"font-weight:bold\">count</td><td style=\"font-weight:bold\">ratio(%)</td></tr><tr><td >1985.0</td><td >4</td><td >1.00</td></tr><tr><td >2130.0</td><td >4</td><td >1.00</td></tr><tr><td >2155.0</td><td >3</td><td >0.70</td></tr><tr><td >2300.0</td><td >3</td><td >0.70</td></tr><tr><td >2720.0</td><td >3</td><td >0.70</td></tr><tr><td >2945.0</td><td >3</td><td >0.70</td></tr></table></td>                <td><table style=\"background-color:white\"><tr><td style=\"font-weight:bold\">value</td><td style=\"font-weight:bold\">count</td><td style=\"font-weight:bold\">ratio(%)</td></tr><tr><td >1613.0</td><td >1</td><td >0.20</td></tr><tr><td >1649.0</td><td >1</td><td >0.20</td></tr><tr><td >1755.0</td><td >1</td><td >0.20</td></tr><tr><td >1760.0</td><td >1</td><td >0.20</td></tr><tr><td >1773.0</td><td >1</td><td >0.20</td></tr><tr><td >1795.0</td><td >2</td><td >0.50</td></tr></table></td>                <td><table style=\"background-color:white\"><tr><td style=\"font-weight:bold\">value</td><td style=\"font-weight:bold\">count</td><td style=\"font-weight:bold\">ratio(%)</td></tr><tr><td >4906.0</td><td >1</td><td >0.20</td></tr><tr><td >4951.0</td><td >1</td><td >0.20</td></tr><tr><td >4952.0</td><td >1</td><td >0.20</td></tr><tr><td >4955.0</td><td >1</td><td >0.20</td></tr><tr><td >4997.0</td><td >1</td><td >0.20</td></tr><tr><td >5140.0</td><td >1</td><td >0.20</td></tr></table></td>                <td><img src=\"data:image/png;base64,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\"></td>            </tr>        </table>        "
      ],
      "text/plain": [
       "<IPython.core.display.HTML object>"
      ]
     },
     "metadata": {},
     "output_type": "display_data"
    },
    {
     "data": {
      "text/markdown": [
       "----------"
      ],
      "text/plain": [
       "<IPython.core.display.Markdown object>"
      ]
     },
     "metadata": {},
     "output_type": "display_data"
    },
    {
     "data": {
      "text/markdown": [
       "## 2.6 acceleration"
      ],
      "text/plain": [
       "<IPython.core.display.Markdown object>"
      ]
     },
     "metadata": {},
     "output_type": "display_data"
    },
    {
     "data": {
      "text/html": [
       "        <table style=\"background-color:white\">            <tr>                <td colspan=2 style=\"font-weight:bold;text-align:center;font-size:1.2em\">| Descriptive Stat. |</td>                <td style=\"font-weight:bold;text-align:center;font-size:1.2em\">| Quantile Stat. |</td>                <td style=\"font-weight:bold;text-align:center;font-size:1.2em\">| Common Values |</td>                <td style=\"font-weight:bold;text-align:center;font-size:1.2em\">| Min Values |</td>                <td style=\"font-weight:bold;text-align:center;font-size:1.2em\">| Max Values |</td>                <td style=\"font-weight:bold;text-align:center;font-size:1.2em\">| Histogram |</td>            </tr>            <tr>                <td><table style=\"background-color:white\"><tr><td style=\"font-weight:bold\">size</td><td >398</td></tr><tr><td style=\"font-weight:bold\">distinct</td><td >95</td></tr><tr><td style=\"font-weight:bold\">distinct(%)</td><td >23.87</td></tr><tr><td style=\"font-weight:bold\">missing</td><td >0</td></tr><tr><td style=\"font-weight:bold\">missing(%)</td><td >0.00</td></tr><tr><td style=\"font-weight:bold\">minimum</td><td >8.0</td></tr><tr><td style=\"font-weight:bold\">maximum</td><td >24.8</td></tr></table></td>                <td><table style=\"background-color:white\"><tr><td style=\"font-weight:bold\">zeros</td><td >0</td></tr><tr><td style=\"font-weight:bold\">zeros(%)</td><td >0.00</td></tr><tr><td style=\"font-weight:bold\">mean</td><td >15.57</td></tr><tr><td style=\"font-weight:bold\">median</td><td >15.50</td></tr><tr><td style=\"font-weight:bold\">sum</td><td >6196.10</td></tr><tr><td style=\"font-weight:bold\">sd</td><td >2.76</td></tr><tr><td style=\"font-weight:bold\">skewness</td><td >0.28</td></tr></table></td>                <td><table style=\"background-color:white\"><tr><td style=\"font-weight:bold\">minimun</td><td >8.0</td></tr><tr><td style=\"font-weight:bold\">5-th per.</td><td >11.29</td></tr><tr><td style=\"font-weight:bold\">Q1</td><td >13.83</td></tr><tr><td style=\"font-weight:bold\">median</td><td >15.5</td></tr><tr><td style=\"font-weight:bold\">Q3</td><td >17.17</td></tr><tr><td style=\"font-weight:bold\">95-th per.</td><td >20.41</td></tr><tr><td style=\"font-weight:bold\">maximum</td><td >24.8</td></tr></table></td>                <td><table style=\"background-color:white\"><tr><td style=\"font-weight:bold\">value</td><td style=\"font-weight:bold\">count</td><td style=\"font-weight:bold\">ratio(%)</td></tr><tr><td >14.5</td><td >23</td><td >5.70</td></tr><tr><td >15.5</td><td >21</td><td >5.20</td></tr><tr><td >16.0</td><td >16</td><td >4.00</td></tr><tr><td >14.0</td><td >16</td><td >4.00</td></tr><tr><td >13.5</td><td >15</td><td >3.70</td></tr><tr><td >17.0</td><td >14</td><td >3.50</td></tr></table></td>                <td><table style=\"background-color:white\"><tr><td style=\"font-weight:bold\">value</td><td style=\"font-weight:bold\">count</td><td style=\"font-weight:bold\">ratio(%)</td></tr><tr><td >8.0</td><td >1</td><td >0.20</td></tr><tr><td >8.5</td><td >2</td><td >0.50</td></tr><tr><td >9.0</td><td >1</td><td >0.20</td></tr><tr><td >9.5</td><td >2</td><td >0.50</td></tr><tr><td >10.0</td><td >4</td><td >1.00</td></tr><tr><td >10.5</td><td >1</td><td >0.20</td></tr></table></td>                <td><table style=\"background-color:white\"><tr><td style=\"font-weight:bold\">value</td><td style=\"font-weight:bold\">count</td><td style=\"font-weight:bold\">ratio(%)</td></tr><tr><td >22.1</td><td >1</td><td >0.20</td></tr><tr><td >22.2</td><td >2</td><td >0.50</td></tr><tr><td >23.5</td><td >1</td><td >0.20</td></tr><tr><td >23.7</td><td >1</td><td >0.20</td></tr><tr><td >24.6</td><td >1</td><td >0.20</td></tr><tr><td >24.8</td><td >1</td><td >0.20</td></tr></table></td>                <td><img src=\"data:image/png;base64,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\"></td>            </tr>        </table>        "
      ],
      "text/plain": [
       "<IPython.core.display.HTML object>"
      ]
     },
     "metadata": {},
     "output_type": "display_data"
    },
    {
     "data": {
      "text/markdown": [
       "----------"
      ],
      "text/plain": [
       "<IPython.core.display.Markdown object>"
      ]
     },
     "metadata": {},
     "output_type": "display_data"
    },
    {
     "data": {
      "text/markdown": [
       "## 2.7 model_year"
      ],
      "text/plain": [
       "<IPython.core.display.Markdown object>"
      ]
     },
     "metadata": {},
     "output_type": "display_data"
    },
    {
     "data": {
      "text/html": [
       "        <table style=\"background-color:white\">            <tr>                <td colspan=2 style=\"font-weight:bold;text-align:center;font-size:1.2em\">| Descriptive Stat. |</td>                <td style=\"font-weight:bold;text-align:center;font-size:1.2em\">| Quantile Stat. |</td>                <td style=\"font-weight:bold;text-align:center;font-size:1.2em\">| Common Values |</td>                <td style=\"font-weight:bold;text-align:center;font-size:1.2em\">| Min Values |</td>                <td style=\"font-weight:bold;text-align:center;font-size:1.2em\">| Max Values |</td>                <td style=\"font-weight:bold;text-align:center;font-size:1.2em\">| Histogram |</td>            </tr>            <tr>                <td><table style=\"background-color:white\"><tr><td style=\"font-weight:bold\">size</td><td >398</td></tr><tr><td style=\"font-weight:bold\">distinct</td><td >13</td></tr><tr><td style=\"font-weight:bold\">distinct(%)</td><td >3.27</td></tr><tr><td style=\"font-weight:bold\">missing</td><td >0</td></tr><tr><td style=\"font-weight:bold\">missing(%)</td><td >0.00</td></tr><tr><td style=\"font-weight:bold\">minimum</td><td >70</td></tr><tr><td style=\"font-weight:bold\">maximum</td><td >82</td></tr></table></td>                <td><table style=\"background-color:white\"><tr><td style=\"font-weight:bold\">zeros</td><td >0</td></tr><tr><td style=\"font-weight:bold\">zeros(%)</td><td >0.00</td></tr><tr><td style=\"font-weight:bold\">mean</td><td >76.01</td></tr><tr><td style=\"font-weight:bold\">median</td><td >76.00</td></tr><tr><td style=\"font-weight:bold\">sum</td><td >30252.00</td></tr><tr><td style=\"font-weight:bold\">sd</td><td >3.70</td></tr><tr><td style=\"font-weight:bold\">skewness</td><td >0.01</td></tr></table></td>                <td><table style=\"background-color:white\"><tr><td style=\"font-weight:bold\">minimun</td><td >70.0</td></tr><tr><td style=\"font-weight:bold\">5-th per.</td><td >70.00</td></tr><tr><td style=\"font-weight:bold\">Q1</td><td >73.00</td></tr><tr><td style=\"font-weight:bold\">median</td><td >76.0</td></tr><tr><td style=\"font-weight:bold\">Q3</td><td >79.00</td></tr><tr><td style=\"font-weight:bold\">95-th per.</td><td >82.00</td></tr><tr><td style=\"font-weight:bold\">maximum</td><td >82.0</td></tr></table></td>                <td><table style=\"background-color:white\"><tr><td style=\"font-weight:bold\">value</td><td style=\"font-weight:bold\">count</td><td style=\"font-weight:bold\">ratio(%)</td></tr><tr><td >73.0</td><td >40</td><td >10.00</td></tr><tr><td >78.0</td><td >36</td><td >9.00</td></tr><tr><td >76.0</td><td >34</td><td >8.50</td></tr><tr><td >82.0</td><td >31</td><td >7.70</td></tr><tr><td >75.0</td><td >30</td><td >7.50</td></tr><tr><td >81.0</td><td >29</td><td >7.20</td></tr></table></td>                <td><table style=\"background-color:white\"><tr><td style=\"font-weight:bold\">value</td><td style=\"font-weight:bold\">count</td><td style=\"font-weight:bold\">ratio(%)</td></tr><tr><td >70.0</td><td >29</td><td >7.20</td></tr><tr><td >71.0</td><td >28</td><td >7.00</td></tr><tr><td >72.0</td><td >28</td><td >7.00</td></tr><tr><td >73.0</td><td >40</td><td >10.00</td></tr><tr><td >74.0</td><td >27</td><td >6.70</td></tr><tr><td >75.0</td><td >30</td><td >7.50</td></tr></table></td>                <td><table style=\"background-color:white\"><tr><td style=\"font-weight:bold\">value</td><td style=\"font-weight:bold\">count</td><td style=\"font-weight:bold\">ratio(%)</td></tr><tr><td >77.0</td><td >28</td><td >7.00</td></tr><tr><td >78.0</td><td >36</td><td >9.00</td></tr><tr><td >79.0</td><td >29</td><td >7.20</td></tr><tr><td >80.0</td><td >29</td><td >7.20</td></tr><tr><td >81.0</td><td >29</td><td >7.20</td></tr><tr><td >82.0</td><td >31</td><td >7.70</td></tr></table></td>                <td><img src=\"data:image/png;base64,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\"></td>            </tr>        </table>        "
      ],
      "text/plain": [
       "<IPython.core.display.HTML object>"
      ]
     },
     "metadata": {},
     "output_type": "display_data"
    },
    {
     "data": {
      "text/markdown": [
       "----------"
      ],
      "text/plain": [
       "<IPython.core.display.Markdown object>"
      ]
     },
     "metadata": {},
     "output_type": "display_data"
    },
    {
     "data": {
      "text/markdown": [
       "## 2.8 origin"
      ],
      "text/plain": [
       "<IPython.core.display.Markdown object>"
      ]
     },
     "metadata": {},
     "output_type": "display_data"
    },
    {
     "data": {
      "text/html": [
       "        <table>            <tr>                <td style=\"font-weight:bold;text-align:center;font-size:1.2em\">| Descriptive Statistics |</td>                <td style=\"font-weight:bold;text-align:center;font-size:1.2em\">| Common Values |</td>                <td style=\"font-weight:bold;text-align:center;font-size:1.2em\">| Bar Chart |</td>                <td style=\"font-weight:bold;text-align:center;font-size:1.2em\">| Pie Chart |</td>            </tr>            <tr>                <td><table style=\"background-color:white\"><tr><td style=\"font-weight:bold\">size</td><td >398</td></tr><tr><td style=\"font-weight:bold\">distinct</td><td >3</td></tr><tr><td style=\"font-weight:bold\">distinct(%)</td><td >0.7537688442211055</td></tr><tr><td style=\"font-weight:bold\">missing</td><td >0</td></tr><tr><td style=\"font-weight:bold\">missing(%)</td><td >0.0</td></tr></table></td>                <td><table style=\"background-color:white\"><tr><td style=\"font-weight:bold\">value</td><td style=\"font-weight:bold\">count</td><td style=\"font-weight:bold\">ratio(%)</td></tr><tr><td >1.0</td><td >249</td><td >62.50</td></tr><tr><td >3.0</td><td >79</td><td >19.80</td></tr><tr><td >2.0</td><td >70</td><td >17.50</td></tr></table></td>                <td><img src=\"data:image/png;base64,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\"></td>                <td><img src=\"data:image/png;base64,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\"></td>            </tr>        </table>        "
      ],
      "text/plain": [
       "<IPython.core.display.HTML object>"
      ]
     },
     "metadata": {},
     "output_type": "display_data"
    },
    {
     "data": {
      "text/markdown": [
       "----------"
      ],
      "text/plain": [
       "<IPython.core.display.Markdown object>"
      ]
     },
     "metadata": {},
     "output_type": "display_data"
    }
   ],
   "source": [
    "# Train/Test 분포를 비교해보는 랜더링 테스트\n",
    "display(Markdown(f'# 2. Auto Variables'))\n",
    "for idx, col in enumerate(df_auto.drop(columns=['name']).columns.values):\n",
    "    display(Markdown(f'## 2.{idx+1} {col}'))\n",
    "    exp.render_variable(df_auto, col)\n",
    "    display(Markdown(f'----------'))"
   ]
  },
  {
   "cell_type": "code",
   "execution_count": null,
   "metadata": {},
   "outputs": [],
   "source": []
  }
 ],
 "metadata": {
  "kernelspec": {
   "display_name": "Python 3",
   "language": "python",
   "name": "python3"
  },
  "language_info": {
   "codemirror_mode": {
    "name": "ipython",
    "version": 3
   },
   "file_extension": ".py",
   "mimetype": "text/x-python",
   "name": "python",
   "nbconvert_exporter": "python",
   "pygments_lexer": "ipython3",
   "version": "3.7.3"
  }
 },
 "nbformat": 4,
 "nbformat_minor": 4
}
